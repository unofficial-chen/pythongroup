{
 "cells": [
  {
   "cell_type": "code",
   "execution_count": 4,
   "id": "initial_id",
   "metadata": {
    "ExecuteTime": {
     "end_time": "2024-12-10T15:34:41.802151Z",
     "start_time": "2024-12-10T15:34:41.693011Z"
    }
   },
   "outputs": [
    {
     "name": "stdout",
     "output_type": "stream",
     "text": [
      "Dataset TechGadgetSales.csv has been generated!\n"
     ]
    }
   ],
   "source": [
    "#generating data\n",
    "import pandas as pd\n",
    "import random\n",
    "\n",
    "# Set random seed for reproducibility\n",
    "random.seed(42)\n",
    "\n",
    "# Define the number of records\n",
    "num_records = 500\n",
    "\n",
    "# Generate random data\n",
    "data = {\n",
    "    \"Product\": [random.choice([\"Smartphone\", \"Laptop\", \"Smartwatch\", \"Tablet\"]) for _ in range(num_records)],\n",
    "    \"Age\": [random.randint(18, 65) for _ in range(num_records)],\n",
    "    \"Gender\": [random.choice([\"Female\", \"Male\"]) for _ in range(num_records)],\n",
    "    \"Education\": [random.randint(10, 20) for _ in range(num_records)],\n",
    "    \"MaritalStatus\": [random.choice([\"Single\", \"Married\"]) for _ in range(num_records)],\n",
    "    \"Usage\": [random.randint(1, 10) for _ in range(num_records)],\n",
    "    \"TechSavvy\": [random.randint(1, 5) for _ in range(num_records)],\n",
    "    \"Income\": [random.randint(30000, 150000) for _ in range(num_records)],\n",
    "    \"HoursUsed\": [random.randint(1, 80) for _ in range(num_records)],\n",
    "}\n",
    "\n",
    "# Create a DataFrame\n",
    "df = pd.DataFrame(data)\n",
    "\n",
    "# Save to CSV\n",
    "df.to_csv(\"TechGadgetSales.csv\", index=False)\n",
    "\n",
    "print(\"Dataset TechGadgetSales.csv has been generated!\")"
   ]
  },
  {
   "cell_type": "code",
   "execution_count": null,
   "id": "dd5a1a13159c0cca",
   "metadata": {
    "ExecuteTime": {
     "end_time": "2024-12-04T15:04:09.681714Z",
     "start_time": "2024-12-04T15:04:09.677099Z"
    },
    "jupyter": {
     "outputs_hidden": false
    }
   },
   "outputs": [],
   "source": []
  },
  {
   "cell_type": "code",
   "execution_count": 5,
   "id": "66229f64866be09c",
   "metadata": {
    "ExecuteTime": {
     "end_time": "2024-12-10T15:34:42.170962Z",
     "start_time": "2024-12-10T15:34:42.117470Z"
    },
    "jupyter": {
     "outputs_hidden": false
    }
   },
   "outputs": [
    {
     "data": {
      "text/html": [
       "<div>\n",
       "<style scoped>\n",
       "    .dataframe tbody tr th:only-of-type {\n",
       "        vertical-align: middle;\n",
       "    }\n",
       "\n",
       "    .dataframe tbody tr th {\n",
       "        vertical-align: top;\n",
       "    }\n",
       "\n",
       "    .dataframe thead th {\n",
       "        text-align: right;\n",
       "    }\n",
       "</style>\n",
       "<table border=\"1\" class=\"dataframe\">\n",
       "  <thead>\n",
       "    <tr style=\"text-align: right;\">\n",
       "      <th></th>\n",
       "      <th>Product</th>\n",
       "      <th>Age</th>\n",
       "      <th>Gender</th>\n",
       "      <th>Education</th>\n",
       "      <th>MaritalStatus</th>\n",
       "      <th>Usage</th>\n",
       "      <th>TechSavvy</th>\n",
       "      <th>Income</th>\n",
       "      <th>HoursUsed</th>\n",
       "    </tr>\n",
       "  </thead>\n",
       "  <tbody>\n",
       "    <tr>\n",
       "      <th>0</th>\n",
       "      <td>Smartphone</td>\n",
       "      <td>21</td>\n",
       "      <td>Male</td>\n",
       "      <td>16</td>\n",
       "      <td>Single</td>\n",
       "      <td>3</td>\n",
       "      <td>4</td>\n",
       "      <td>64768</td>\n",
       "      <td>39</td>\n",
       "    </tr>\n",
       "    <tr>\n",
       "      <th>1</th>\n",
       "      <td>Smartphone</td>\n",
       "      <td>34</td>\n",
       "      <td>Male</td>\n",
       "      <td>18</td>\n",
       "      <td>Married</td>\n",
       "      <td>2</td>\n",
       "      <td>5</td>\n",
       "      <td>116585</td>\n",
       "      <td>53</td>\n",
       "    </tr>\n",
       "    <tr>\n",
       "      <th>2</th>\n",
       "      <td>Smartwatch</td>\n",
       "      <td>42</td>\n",
       "      <td>Female</td>\n",
       "      <td>18</td>\n",
       "      <td>Married</td>\n",
       "      <td>3</td>\n",
       "      <td>1</td>\n",
       "      <td>66899</td>\n",
       "      <td>7</td>\n",
       "    </tr>\n",
       "    <tr>\n",
       "      <th>3</th>\n",
       "      <td>Laptop</td>\n",
       "      <td>38</td>\n",
       "      <td>Male</td>\n",
       "      <td>16</td>\n",
       "      <td>Single</td>\n",
       "      <td>7</td>\n",
       "      <td>5</td>\n",
       "      <td>68980</td>\n",
       "      <td>20</td>\n",
       "    </tr>\n",
       "    <tr>\n",
       "      <th>4</th>\n",
       "      <td>Laptop</td>\n",
       "      <td>31</td>\n",
       "      <td>Male</td>\n",
       "      <td>12</td>\n",
       "      <td>Married</td>\n",
       "      <td>8</td>\n",
       "      <td>1</td>\n",
       "      <td>61135</td>\n",
       "      <td>18</td>\n",
       "    </tr>\n",
       "  </tbody>\n",
       "</table>\n",
       "</div>"
      ],
      "text/plain": [
       "      Product  Age  Gender  Education MaritalStatus  Usage  TechSavvy  Income  \\\n",
       "0  Smartphone   21    Male         16        Single      3          4   64768   \n",
       "1  Smartphone   34    Male         18       Married      2          5  116585   \n",
       "2  Smartwatch   42  Female         18       Married      3          1   66899   \n",
       "3      Laptop   38    Male         16        Single      7          5   68980   \n",
       "4      Laptop   31    Male         12       Married      8          1   61135   \n",
       "\n",
       "   HoursUsed  \n",
       "0         39  \n",
       "1         53  \n",
       "2          7  \n",
       "3         20  \n",
       "4         18  "
      ]
     },
     "execution_count": 5,
     "metadata": {},
     "output_type": "execute_result"
    }
   ],
   "source": [
    "import pandas as pd\n",
    "import numpy as np\n",
    "data = pd.read_csv('TechGadgetSales.csv')\n",
    "\n",
    "data.head()"
   ]
  },
  {
   "cell_type": "code",
   "execution_count": null,
   "id": "23db05b4-eba6-4e70-bc15-ea4dd4d78aac",
   "metadata": {},
   "outputs": [],
   "source": []
  },
  {
   "cell_type": "code",
   "execution_count": 6,
   "id": "d05b7a7b17daea4c",
   "metadata": {
    "ExecuteTime": {
     "end_time": "2024-12-10T15:34:42.523809Z",
     "start_time": "2024-12-10T15:34:42.518765Z"
    },
    "jupyter": {
     "outputs_hidden": false
    }
   },
   "outputs": [
    {
     "name": "stdout",
     "output_type": "stream",
     "text": [
      "Number of records: 500\n"
     ]
    }
   ],
   "source": [
    "# 1. How many records are in the dataset?\n",
    "num_records = len(data)\n",
    "print(f\"Number of records: {num_records}\")"
   ]
  },
  {
   "cell_type": "code",
   "execution_count": 7,
   "id": "63d45ff782ee294",
   "metadata": {
    "ExecuteTime": {
     "end_time": "2024-12-10T15:34:42.745435Z",
     "start_time": "2024-12-10T15:34:42.692916Z"
    },
    "jupyter": {
     "outputs_hidden": false
    }
   },
   "outputs": [
    {
     "name": "stdout",
     "output_type": "stream",
     "text": [
      "Number of unique products: 4\n"
     ]
    }
   ],
   "source": [
    "# 2. How many unique products are in the dataset?\n",
    "unique_products = data['Product'].nunique()\n",
    "print(f\"Number of unique products: {unique_products}\")"
   ]
  },
  {
   "cell_type": "code",
   "execution_count": 8,
   "id": "c8acc59b12c858e",
   "metadata": {
    "ExecuteTime": {
     "end_time": "2024-12-10T15:34:42.898839Z",
     "start_time": "2024-12-10T15:34:42.889146Z"
    },
    "jupyter": {
     "outputs_hidden": false
    }
   },
   "outputs": [
    {
     "name": "stdout",
     "output_type": "stream",
     "text": [
      "Largest age difference: 47\n"
     ]
    }
   ],
   "source": [
    "# 3. What is the largest age difference in the dataset (maximum age - minimum age)?\n",
    "age_difference = data['Age'].max() - data['Age'].min()\n",
    "print(f\"Largest age difference: {age_difference}\")"
   ]
  },
  {
   "cell_type": "code",
   "execution_count": null,
   "id": "affcdbd2-ba20-45e4-a4d9-68da08889a3a",
   "metadata": {},
   "outputs": [],
   "source": []
  },
  {
   "cell_type": "code",
   "execution_count": 9,
   "id": "0fdae401-cced-4836-a4fa-d8d2a89948a0",
   "metadata": {
    "ExecuteTime": {
     "end_time": "2024-12-10T15:34:43.361184Z",
     "start_time": "2024-12-10T15:34:43.302776Z"
    }
   },
   "outputs": [
    {
     "name": "stdout",
     "output_type": "stream",
     "text": [
      "Gender ratio (Female/Male): 0.9083969465648855\n"
     ]
    }
   ],
   "source": [
    "female = len(data[data['Gender'] == 'Female'])\n",
    "male = len(data[data['Gender'] == 'Male'])\n",
    "\n",
    "if male == 0:\n",
    "    print(\"It is impossible to calculate the sex ratio because there are zero males.\")\n",
    "else:\n",
    "    gender_ratio = female / male\n",
    "    print(f\"Gender ratio (Female/Male): {gender_ratio}\")"
   ]
  },
  {
   "cell_type": "code",
   "execution_count": null,
   "id": "a378d61b-7388-45fa-b90e-bd6d60cd4b09",
   "metadata": {},
   "outputs": [],
   "source": []
  },
  {
   "cell_type": "code",
   "execution_count": 10,
   "id": "f42f19c7bbe45eda",
   "metadata": {
    "ExecuteTime": {
     "end_time": "2024-12-10T15:34:43.634363Z",
     "start_time": "2024-12-10T15:34:43.620482Z"
    },
    "jupyter": {
     "outputs_hidden": false
    }
   },
   "outputs": [
    {
     "name": "stdout",
     "output_type": "stream",
     "text": [
      "Median year of education: 15.0\n"
     ]
    }
   ],
   "source": [
    "# 5. What is the median year of education of the customers in the dataset?\n",
    "median_education = data['Education'].median()\n",
    "print(f\"Median year of education: {median_education}\")"
   ]
  },
  {
   "cell_type": "code",
   "execution_count": 11,
   "id": "636390b5dce3341e",
   "metadata": {
    "ExecuteTime": {
     "end_time": "2024-12-10T15:34:43.821657Z",
     "start_time": "2024-12-10T15:34:43.811815Z"
    },
    "jupyter": {
     "outputs_hidden": false
    }
   },
   "outputs": [
    {
     "name": "stdout",
     "output_type": "stream",
     "text": [
      "Number of married customers: 255\n"
     ]
    }
   ],
   "source": [
    "# 6. How many customers are married?\n",
    "num_married = len(data[data['MaritalStatus'] == 'Married'])\n",
    "print(f\"Number of married customers: {num_married}\")"
   ]
  },
  {
   "cell_type": "code",
   "execution_count": 12,
   "id": "87544664b28fc24c",
   "metadata": {
    "ExecuteTime": {
     "end_time": "2024-12-10T15:34:44.009458Z",
     "start_time": "2024-12-10T15:34:44.002331Z"
    },
    "jupyter": {
     "outputs_hidden": false
    }
   },
   "outputs": [
    {
     "name": "stdout",
     "output_type": "stream",
     "text": [
      "Average usage per week: 40.57\n"
     ]
    }
   ],
   "source": [
    "# 7. On average, how often do customers use their smart device per week?\n",
    "average_usage = data['HoursUsed'].mean()\n",
    "print(f\"Average usage per week: {average_usage}\")\n"
   ]
  },
  {
   "cell_type": "code",
   "execution_count": 13,
   "id": "198ccba339b15f34",
   "metadata": {
    "ExecuteTime": {
     "end_time": "2024-12-10T15:34:44.225825Z",
     "start_time": "2024-12-10T15:34:44.204512Z"
    },
    "jupyter": {
     "outputs_hidden": false
    }
   },
   "outputs": [
    {
     "name": "stdout",
     "output_type": "stream",
     "text": [
      "Percentage of tech-savvy customers: 18.0%\n"
     ]
    }
   ],
   "source": [
    "# 8. What percentage of customers self-rated as very tech-savvy (score = 5)?\n",
    "tech_savvy_percentage = (data['TechSavvy'] == 5).mean() * 100\n",
    "print(f\"Percentage of tech-savvy customers: {tech_savvy_percentage}%\")\n"
   ]
  },
  {
   "cell_type": "code",
   "execution_count": 14,
   "id": "eeccbd77a2581b9d",
   "metadata": {
    "ExecuteTime": {
     "end_time": "2024-12-10T15:34:44.419633Z",
     "start_time": "2024-12-10T15:34:44.409438Z"
    },
    "jupyter": {
     "outputs_hidden": false
    }
   },
   "outputs": [
    {
     "name": "stdout",
     "output_type": "stream",
     "text": [
      "Highest income: 149822\n"
     ]
    }
   ],
   "source": [
    "# 9. What is the highest income in the dataset?\n",
    "highest_income = data['Income'].max()\n",
    "print(f\"Highest income: {highest_income}\")"
   ]
  },
  {
   "cell_type": "code",
   "execution_count": 15,
   "id": "a10dc116e7c0dfc6",
   "metadata": {
    "ExecuteTime": {
     "end_time": "2024-12-10T15:34:44.630821Z",
     "start_time": "2024-12-10T15:34:44.594186Z"
    },
    "jupyter": {
     "outputs_hidden": false
    }
   },
   "outputs": [
    {
     "name": "stdout",
     "output_type": "stream",
     "text": [
      "Number of customers using more than 50 hours per week: 190\n"
     ]
    }
   ],
   "source": [
    "# 10. How many customers use their smart device for more than 50 hours per week (50 not included)?\n",
    "num_high_users = len(data[data['HoursUsed'] > 50])\n",
    "print(f\"Number of customers using more than 50 hours per week: {num_high_users}\")"
   ]
  },
  {
   "cell_type": "code",
   "execution_count": 16,
   "id": "d5cd99c9-91ff-4cfe-a028-05f28e08264a",
   "metadata": {
    "ExecuteTime": {
     "end_time": "2024-12-10T15:34:44.792466Z",
     "start_time": "2024-12-10T15:34:44.782998Z"
    },
    "scrolled": true
   },
   "outputs": [
    {
     "name": "stdout",
     "output_type": "stream",
     "text": [
      "1: Number of records: 500\n",
      "2: Number of unique products: 4\n",
      "3: Largest age difference: 47\n",
      "4: Gender ratio (Female/Male): 0.9083969465648855\n",
      "5: Median year of education:15.0 \n",
      "6: Number of married customers: 255\n",
      "7: Average usage per week: 40.57\n",
      "8: Percentage of tech-savvy customers: 18.0%\n",
      "9: Highest income: 149822\n",
      "10: Number of customers using more than 50 hours per week: 190\n"
     ]
    }
   ],
   "source": [
    "#### BEGIN SOLUTION\n",
    "answers = {\n",
    "    \"1\": \"Number of records: 500\", \n",
    "    \"2\": \"Number of unique products: 4\",  \n",
    "    \"3\": \"Largest age difference: 47\",  \n",
    "    \"4\": \"Gender ratio (Female/Male): 0.9083969465648855\",  \n",
    "    \"5\": \"Median year of education:15.0 \",  \n",
    "    \"6\": \"Number of married customers: 255\",  \n",
    "    \"7\": \"Average usage per week: 40.57\",  \n",
    "    \"8\": \"Percentage of tech-savvy customers: 18.0%\", \n",
    "    \"9\": \"Highest income: 149822\",  \n",
    "    \"10\": \"Number of customers using more than 50 hours per week: 190\"  \n",
    "}\n",
    "for key, value in answers.items():\n",
    "    print(f\"{key}: {value}\")\n",
    "#### END SOLUTION"
   ]
  },
  {
   "cell_type": "code",
   "execution_count": 25,
   "id": "ab9353991a8c5a71",
   "metadata": {
    "ExecuteTime": {
     "end_time": "2024-12-10T15:35:35.816072Z",
     "start_time": "2024-12-10T15:35:34.923622Z"
    },
    "jupyter": {
     "outputs_hidden": false
    }
   },
   "outputs": [
    {
     "data": {
      "image/png": "[encoded data removed]",
      "text/plain": [
       "<Figure size 576x432 with 1 Axes>"
      ]
     },
     "metadata": {},
     "output_type": "display_data"
    },
    {
     "data": {
      "image/png": "[encoded data removed]",
      "text/plain": [
       "<Figure size 432x288 with 1 Axes>"
      ]
     },
     "metadata": {},
     "output_type": "display_data"
    },
    {
     "data": {
      "image/png": "[encoded data removed]",
      "text/plain": [
       "<Figure size 720x432 with 1 Axes>"
      ]
     },
     "metadata": {},
     "output_type": "display_data"
    }
   ],
   "source": [
    "\n",
    "import matplotlib.pyplot as plt\n",
    "\n",
    "product_counts = data['Product'].value_counts()\n",
    "plt.figure(figsize=(8, 6))\n",
    "plt.pie(product_counts, labels=product_counts.index, autopct='%1.1f%%', startangle=90)\n",
    "plt.title('Plot 1 - Pie Chart')\n",
    "plt.show()\n",
    "\n",
    "# tech\n",
    "plt.hist(data['TechSavvy'], bins=np.arange(1, 7)-0.5, edgecolor='black') \n",
    "plt.title('Plot 2 - Histogram Distribution')\n",
    "plt.xlabel('Tech Savvy Score')\n",
    "plt.ylabel('Frequency')\n",
    "plt.xticks(range(1, 6)) \n",
    "plt.show()\n",
    "\n",
    "# mariticial income\n",
    "grouped_data = data.groupby(['MaritalStatus', 'Gender'])['Income'].mean().reset_index()\n",
    "sns.set(style=\"whitegrid\")\n",
    "plt.figure(figsize=(10, 6))\n",
    "bar_plot = sns.barplot(data=grouped_data, x='Income', y='MaritalStatus', hue='Gender', palette=\"vlag\")\n",
    "plt.title('Income by Marital Status and Gender')\n",
    "plt.xlabel('Income')\n",
    "plt.ylabel('Marital Status')\n",
    "plt.legend(title='Gender')\n",
    "plt.show()"
   ]
  },
  {
   "cell_type": "code",
   "execution_count": null,
   "id": "b3385819d1e3059c",
   "metadata": {
    "ExecuteTime": {
     "end_time": "2024-12-10T15:34:45.836702Z",
     "start_time": "2024-12-10T15:34:45.613010Z"
    },
    "jupyter": {
     "outputs_hidden": false
    }
   },
   "outputs": [],
   "source": []
  },
  {
   "cell_type": "code",
   "execution_count": null,
   "id": "d78b7459-84c7-408e-8c30-75945288de86",
   "metadata": {
    "ExecuteTime": {
     "end_time": "2024-12-10T15:34:46.154288Z",
     "start_time": "2024-12-10T15:34:45.839103Z"
    }
   },
   "outputs": [],
   "source": []
  },
  {
   "cell_type": "code",
   "execution_count": null,
   "id": "5c0cae9f-5af1-4549-a608-1378d7584d28",
   "metadata": {
    "ExecuteTime": {
     "end_time": "2024-12-10T15:33:03.108645Z",
     "start_time": "2024-12-10T15:33:03.102959Z"
    }
   },
   "outputs": [],
   "source": []
  },
  {
   "cell_type": "code",
   "execution_count": 20,
   "id": "713a2a1e-a020-4a33-9034-64a016afefe5",
   "metadata": {
    "ExecuteTime": {
     "end_time": "2024-12-10T15:34:46.184443Z",
     "start_time": "2024-12-10T15:34:46.158630Z"
    }
   },
   "outputs": [],
   "source": [
    "import pandas as pd\n",
    "data = pd.read_csv('TechGadgetSales.csv')"
   ]
  },
  {
   "cell_type": "code",
   "execution_count": 21,
   "id": "f1fff3c6-ea62-47a7-8c5e-0ede6ff46637",
   "metadata": {
    "ExecuteTime": {
     "end_time": "2024-12-10T15:34:46.206359Z",
     "start_time": "2024-12-10T15:34:46.186735Z"
    }
   },
   "outputs": [
    {
     "name": "stdout",
     "output_type": "stream",
     "text": [
      "<class 'pandas.core.frame.DataFrame'>\n",
      "RangeIndex: 500 entries, 0 to 499\n",
      "Data columns (total 9 columns):\n",
      " #   Column         Non-Null Count  Dtype \n",
      "---  ------         --------------  ----- \n",
      " 0   Product        500 non-null    object\n",
      " 1   Age            500 non-null    int64 \n",
      " 2   Gender         500 non-null    object\n",
      " 3   Education      500 non-null    int64 \n",
      " 4   MaritalStatus  500 non-null    object\n",
      " 5   Usage          500 non-null    int64 \n",
      " 6   TechSavvy      500 non-null    int64 \n",
      " 7   Income         500 non-null    int64 \n",
      " 8   HoursUsed      500 non-null    int64 \n",
      "dtypes: int64(6), object(3)\n",
      "memory usage: 35.3+ KB\n",
      "None\n"
     ]
    }
   ],
   "source": [
    "# View descriptive statistics of the data, including data types and non-null counts\n",
    "print(data.info())"
   ]
  },
  {
   "cell_type": "code",
   "execution_count": 22,
   "id": "c4b4a3e5-abcc-4377-abde-c8a3eb9ae813",
   "metadata": {
    "ExecuteTime": {
     "end_time": "2024-12-10T15:34:46.223726Z",
     "start_time": "2024-12-10T15:34:46.214968Z"
    }
   },
   "outputs": [
    {
     "name": "stdout",
     "output_type": "stream",
     "text": [
      "      Product  Age  Gender  Education MaritalStatus  Usage  TechSavvy  Income  \\\n",
      "0  Smartphone   21    Male         16        Single      3          4   64768   \n",
      "1  Smartphone   34    Male         18       Married      2          5  116585   \n",
      "2  Smartwatch   42  Female         18       Married      3          1   66899   \n",
      "3      Laptop   38    Male         16        Single      7          5   68980   \n",
      "4      Laptop   31    Male         12       Married      8          1   61135   \n",
      "\n",
      "   HoursUsed  \n",
      "0         39  \n",
      "1         53  \n",
      "2          7  \n",
      "3         20  \n",
      "4         18  \n"
     ]
    }
   ],
   "source": [
    "# Look at the first few lines of the data to understand its structure\n",
    "print(data.head())"
   ]
  },
  {
   "cell_type": "code",
   "execution_count": 23,
   "id": "5005a676-29f2-4480-8036-7003a4c3866a",
   "metadata": {
    "ExecuteTime": {
     "end_time": "2024-12-10T15:34:46.428123Z",
     "start_time": "2024-12-10T15:34:46.415740Z"
    }
   },
   "outputs": [
    {
     "name": "stdout",
     "output_type": "stream",
     "text": [
      "Product          0\n",
      "Age              0\n",
      "Gender           0\n",
      "Education        0\n",
      "MaritalStatus    0\n",
      "Usage            0\n",
      "TechSavvy        0\n",
      "Income           0\n",
      "HoursUsed        0\n",
      "dtype: int64\n"
     ]
    }
   ],
   "source": [
    "print(data.isnull().sum())\n",
    "# Check for missing values"
   ]
  },
  {
   "cell_type": "code",
   "execution_count": 24,
   "id": "faed64a6-d7dc-4fdb-9e25-7c7d85dc18aa",
   "metadata": {
    "ExecuteTime": {
     "end_time": "2024-12-10T15:34:46.738788Z",
     "start_time": "2024-12-10T15:34:46.654630Z"
    }
   },
   "outputs": [],
   "source": [
    "# Method 1: Delete rows with missing values\n",
    "data_cleaned = data.dropna()\n",
    "\n",
    "# Method 2: Fill missing values\n",
    "# For numerical features, you can fill with mean \n",
    "# For categorical features, you can fill with mode\n",
    "\n",
    "# Calculate the mean for each column, then fill in the missing values for that column\n",
    "for column in data.select_dtypes(include='number').columns:\n",
    "    data[column] = data[column].fillna(data[column].mean())\n",
    "# For typed features, use mode padding\n",
    "for column in data.select_dtypes(include='object').columns:\n",
    "    mode_value = data[column].mode()\n",
    "    data[column] = data[column].fillna(mode_value)"
   ]
  },
  {
   "cell_type": "code",
   "execution_count": 98,
   "id": "1b399247-e8af-4c35-958f-ab29d9e30d83",
   "metadata": {
    "ExecuteTime": {
     "end_time": "2024-12-10T15:26:34.584212Z",
     "start_time": "2024-12-10T15:26:34.543079Z"
    }
   },
   "outputs": [],
   "source": [
    "# 2. Outlier detection and processing\n",
    "import pandas as pd\n",
    "# Using the IQR method to detect outliers for the number column\n",
    "for column in data.select_dtypes(include='number').columns:\n",
    "    Q1 = data[column].quantile(0.25)\n",
    "    Q3 = data[column].quantile(0.75)\n",
    "    IQR = Q3 - Q1\n",
    "    lower_bound = Q1 - 1.5 * IQR\n",
    "    upper_bound = Q3 + 1.5 * IQR\n",
    "    \n",
    "# Handle outliers: Here, we choose to remove the outliers\n",
    "    data = data[(data[column] >= lower_bound) & (data[column] <= upper_bound)]\n",
    "\n",
    "# Save the cleaned data\n",
    "data.to_csv('TechGadgetSales_cleaned.csv', index=False)"
   ]
  },
  {
   "cell_type": "code",
   "execution_count": null,
   "id": "40dd0a6a-2567-4745-b321-489e358e63c7",
   "metadata": {},
   "outputs": [],
   "source": []
  },
  {
   "cell_type": "code",
   "execution_count": null,
   "id": "5b9ae880-4da0-4b72-8d48-d0cfae71bedc",
   "metadata": {},
   "outputs": [],
   "source": []
  }
 ],
 "metadata": {
  "kernelspec": {
   "display_name": "Python 3 (ipykernel)",
   "language": "python",
   "name": "python3"
  },
  "language_info": {
   "codemirror_mode": {
    "name": "ipython",
    "version": 3
   },
   "file_extension": ".py",
   "mimetype": "text/x-python",
   "name": "python",
   "nbconvert_exporter": "python",
   "pygments_lexer": "ipython3",
   "version": "3.8.10"
  },
  "latex_envs": {
   "LaTeX_envs_menu_present": true,
   "autoclose": false,
   "autocomplete": true,
   "bibliofile": "biblio.bib",
   "cite_by": "apalike",
   "current_citInitial": 1,
   "eqLabelWithNumbers": true,
   "eqNumInitial": 1,
   "hotkeys": {
    "equation": "Ctrl-E",
    "itemize": "Ctrl-I"
   },
   "labels_anchors": false,
   "latex_user_defs": false,
   "report_style_numbering": false,
   "user_envs_cfg": false
  },
  "toc": {
   "base_numbering": 1,
   "nav_menu": {},
   "number_sections": true,
   "sideBar": true,
   "skip_h1_title": false,
   "title_cell": "Table of Contents",
   "title_sidebar": "Contents",
   "toc_cell": false,
   "toc_position": {},
   "toc_section_display": true,
   "toc_window_display": false
  }
 },
 "nbformat": 4,
 "nbformat_minor": 5
}
